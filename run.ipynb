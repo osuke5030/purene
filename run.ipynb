{
 "cells": [
  {
   "cell_type": "code",
   "execution_count": 1,
   "id": "1a2ee031",
   "metadata": {},
   "outputs": [
    {
     "name": "stdout",
     "output_type": "stream",
     "text": [
      "Requirement already satisfied: pandas_datareader in /Users/kuramochiosuke/opt/anaconda3/lib/python3.9/site-packages (0.10.0)\n",
      "Requirement already satisfied: requests>=2.19.0 in /Users/kuramochiosuke/opt/anaconda3/lib/python3.9/site-packages (from pandas_datareader) (2.27.1)\n",
      "Requirement already satisfied: lxml in /Users/kuramochiosuke/opt/anaconda3/lib/python3.9/site-packages (from pandas_datareader) (4.8.0)\n",
      "Requirement already satisfied: pandas>=0.23 in /Users/kuramochiosuke/opt/anaconda3/lib/python3.9/site-packages (from pandas_datareader) (1.4.2)\n",
      "Requirement already satisfied: python-dateutil>=2.8.1 in /Users/kuramochiosuke/opt/anaconda3/lib/python3.9/site-packages (from pandas>=0.23->pandas_datareader) (2.8.2)\n",
      "Requirement already satisfied: pytz>=2020.1 in /Users/kuramochiosuke/opt/anaconda3/lib/python3.9/site-packages (from pandas>=0.23->pandas_datareader) (2021.3)\n",
      "Requirement already satisfied: numpy>=1.18.5 in /Users/kuramochiosuke/opt/anaconda3/lib/python3.9/site-packages (from pandas>=0.23->pandas_datareader) (1.21.5)\n",
      "Requirement already satisfied: six>=1.5 in /Users/kuramochiosuke/opt/anaconda3/lib/python3.9/site-packages (from python-dateutil>=2.8.1->pandas>=0.23->pandas_datareader) (1.16.0)\n",
      "Requirement already satisfied: charset-normalizer~=2.0.0 in /Users/kuramochiosuke/opt/anaconda3/lib/python3.9/site-packages (from requests>=2.19.0->pandas_datareader) (2.0.4)\n",
      "Requirement already satisfied: certifi>=2017.4.17 in /Users/kuramochiosuke/opt/anaconda3/lib/python3.9/site-packages (from requests>=2.19.0->pandas_datareader) (2021.10.8)\n",
      "Requirement already satisfied: urllib3<1.27,>=1.21.1 in /Users/kuramochiosuke/opt/anaconda3/lib/python3.9/site-packages (from requests>=2.19.0->pandas_datareader) (1.26.9)\n",
      "Requirement already satisfied: idna<4,>=2.5 in /Users/kuramochiosuke/opt/anaconda3/lib/python3.9/site-packages (from requests>=2.19.0->pandas_datareader) (3.3)\n",
      "Note: you may need to restart the kernel to use updated packages.\n"
     ]
    }
   ],
   "source": [
    "pip install pandas_datareader"
   ]
  },
  {
   "cell_type": "code",
   "execution_count": 2,
   "id": "fd992442",
   "metadata": {},
   "outputs": [],
   "source": [
    "from pandas_datareader import data\n",
    "import pandas as pd\n",
    "import matplotlib.pyplot as plt\n",
    "import numpy as np\n",
    "%matplotlib inline"
   ]
  },
  {
   "cell_type": "code",
   "execution_count": 3,
   "id": "92af75b5",
   "metadata": {},
   "outputs": [],
   "source": [
    "# 取得する期間\n",
    "start = '2019-06-01'\n",
    "end = '2020-06-01'\n",
    "\n",
    "df = data.DataReader('^N225','yahoo',start,end)"
   ]
  },
  {
   "cell_type": "code",
   "execution_count": 4,
   "id": "1dbc008e",
   "metadata": {},
   "outputs": [
    {
     "data": {
      "text/html": [
       "<div>\n",
       "<style scoped>\n",
       "    .dataframe tbody tr th:only-of-type {\n",
       "        vertical-align: middle;\n",
       "    }\n",
       "\n",
       "    .dataframe tbody tr th {\n",
       "        vertical-align: top;\n",
       "    }\n",
       "\n",
       "    .dataframe thead th {\n",
       "        text-align: right;\n",
       "    }\n",
       "</style>\n",
       "<table border=\"1\" class=\"dataframe\">\n",
       "  <thead>\n",
       "    <tr style=\"text-align: right;\">\n",
       "      <th></th>\n",
       "      <th>High</th>\n",
       "      <th>Low</th>\n",
       "      <th>Open</th>\n",
       "      <th>Close</th>\n",
       "      <th>Volume</th>\n",
       "      <th>Adj Close</th>\n",
       "    </tr>\n",
       "    <tr>\n",
       "      <th>Date</th>\n",
       "      <th></th>\n",
       "      <th></th>\n",
       "      <th></th>\n",
       "      <th></th>\n",
       "      <th></th>\n",
       "      <th></th>\n",
       "    </tr>\n",
       "  </thead>\n",
       "  <tbody>\n",
       "    <tr>\n",
       "      <th>2019-06-03</th>\n",
       "      <td>20438.029297</td>\n",
       "      <td>20305.740234</td>\n",
       "      <td>20327.869141</td>\n",
       "      <td>20410.880859</td>\n",
       "      <td>67400000</td>\n",
       "      <td>20410.880859</td>\n",
       "    </tr>\n",
       "    <tr>\n",
       "      <th>2019-06-04</th>\n",
       "      <td>20464.570312</td>\n",
       "      <td>20289.640625</td>\n",
       "      <td>20435.859375</td>\n",
       "      <td>20408.539062</td>\n",
       "      <td>69200000</td>\n",
       "      <td>20408.539062</td>\n",
       "    </tr>\n",
       "    <tr>\n",
       "      <th>2019-06-05</th>\n",
       "      <td>20800.640625</td>\n",
       "      <td>20646.150391</td>\n",
       "      <td>20667.890625</td>\n",
       "      <td>20776.099609</td>\n",
       "      <td>72300000</td>\n",
       "      <td>20776.099609</td>\n",
       "    </tr>\n",
       "    <tr>\n",
       "      <th>2019-06-06</th>\n",
       "      <td>20842.279297</td>\n",
       "      <td>20745.839844</td>\n",
       "      <td>20745.839844</td>\n",
       "      <td>20774.039062</td>\n",
       "      <td>59600000</td>\n",
       "      <td>20774.039062</td>\n",
       "    </tr>\n",
       "    <tr>\n",
       "      <th>2019-06-07</th>\n",
       "      <td>20907.769531</td>\n",
       "      <td>20816.580078</td>\n",
       "      <td>20859.779297</td>\n",
       "      <td>20884.710938</td>\n",
       "      <td>50700000</td>\n",
       "      <td>20884.710938</td>\n",
       "    </tr>\n",
       "    <tr>\n",
       "      <th>2019-06-10</th>\n",
       "      <td>21166.119141</td>\n",
       "      <td>21077.949219</td>\n",
       "      <td>21095.400391</td>\n",
       "      <td>21134.419922</td>\n",
       "      <td>58200000</td>\n",
       "      <td>21134.419922</td>\n",
       "    </tr>\n",
       "    <tr>\n",
       "      <th>2019-06-11</th>\n",
       "      <td>21227.179688</td>\n",
       "      <td>21066.619141</td>\n",
       "      <td>21099.539062</td>\n",
       "      <td>21204.279297</td>\n",
       "      <td>52100000</td>\n",
       "      <td>21204.279297</td>\n",
       "    </tr>\n",
       "    <tr>\n",
       "      <th>2019-06-12</th>\n",
       "      <td>21259.699219</td>\n",
       "      <td>21118.750000</td>\n",
       "      <td>21130.390625</td>\n",
       "      <td>21129.720703</td>\n",
       "      <td>56500000</td>\n",
       "      <td>21129.720703</td>\n",
       "    </tr>\n",
       "    <tr>\n",
       "      <th>2019-06-13</th>\n",
       "      <td>21111.230469</td>\n",
       "      <td>20932.130859</td>\n",
       "      <td>21040.910156</td>\n",
       "      <td>21032.000000</td>\n",
       "      <td>65700000</td>\n",
       "      <td>21032.000000</td>\n",
       "    </tr>\n",
       "    <tr>\n",
       "      <th>2019-06-14</th>\n",
       "      <td>21119.730469</td>\n",
       "      <td>20971.179688</td>\n",
       "      <td>21049.410156</td>\n",
       "      <td>21116.890625</td>\n",
       "      <td>60400000</td>\n",
       "      <td>21116.890625</td>\n",
       "    </tr>\n",
       "  </tbody>\n",
       "</table>\n",
       "</div>"
      ],
      "text/plain": [
       "                    High           Low          Open         Close    Volume  \\\n",
       "Date                                                                           \n",
       "2019-06-03  20438.029297  20305.740234  20327.869141  20410.880859  67400000   \n",
       "2019-06-04  20464.570312  20289.640625  20435.859375  20408.539062  69200000   \n",
       "2019-06-05  20800.640625  20646.150391  20667.890625  20776.099609  72300000   \n",
       "2019-06-06  20842.279297  20745.839844  20745.839844  20774.039062  59600000   \n",
       "2019-06-07  20907.769531  20816.580078  20859.779297  20884.710938  50700000   \n",
       "2019-06-10  21166.119141  21077.949219  21095.400391  21134.419922  58200000   \n",
       "2019-06-11  21227.179688  21066.619141  21099.539062  21204.279297  52100000   \n",
       "2019-06-12  21259.699219  21118.750000  21130.390625  21129.720703  56500000   \n",
       "2019-06-13  21111.230469  20932.130859  21040.910156  21032.000000  65700000   \n",
       "2019-06-14  21119.730469  20971.179688  21049.410156  21116.890625  60400000   \n",
       "\n",
       "               Adj Close  \n",
       "Date                      \n",
       "2019-06-03  20410.880859  \n",
       "2019-06-04  20408.539062  \n",
       "2019-06-05  20776.099609  \n",
       "2019-06-06  20774.039062  \n",
       "2019-06-07  20884.710938  \n",
       "2019-06-10  21134.419922  \n",
       "2019-06-11  21204.279297  \n",
       "2019-06-12  21129.720703  \n",
       "2019-06-13  21032.000000  \n",
       "2019-06-14  21116.890625  "
      ]
     },
     "execution_count": 4,
     "metadata": {},
     "output_type": "execute_result"
    }
   ],
   "source": [
    "# 10個だけ表示\n",
    "df.head(10)"
   ]
  },
  {
   "cell_type": "code",
   "execution_count": null,
   "id": "9c900554",
   "metadata": {},
   "outputs": [],
   "source": [
    "列のcolum\n",
    "行のindex\n",
    "データ部分の三つから成り立っている\n",
    "\n",
    "High→高値：その日の株価の動きの中で最も高い株価での取引が成立した価格\n",
    "Low→安値：その日の株価の動きの中で最も安い株価での取引が成立した価格\n",
    "Open→始値：その日の市場が開いてから最初に売買が成立して取引された時の株価\n",
    "Close→終値：その日最後となった売買が成立した際に取引された株価\n",
    "Volume→出来高：株取引された量※株価に先行する\n",
    "Adj Close→調整後の終値："
   ]
  },
  {
   "cell_type": "code",
   "execution_count": null,
   "id": "accc1f9a",
   "metadata": {},
   "outputs": [],
   "source": [
    "df.index"
   ]
  },
  {
   "cell_type": "code",
   "execution_count": null,
   "id": "2bc1c992",
   "metadata": {},
   "outputs": [],
   "source": [
    "data = df.index\n",
    "price= df['Adj Close']"
   ]
  },
  {
   "cell_type": "code",
   "execution_count": null,
   "id": "79f4496b",
   "metadata": {},
   "outputs": [],
   "source": [
    "plt.plot(data,price)"
   ]
  },
  {
   "cell_type": "code",
   "execution_count": null,
   "id": "ad631277",
   "metadata": {},
   "outputs": [],
   "source": [
    "plt.figure(figsize=(30,10))\n",
    "plt.plot(data,price)"
   ]
  },
  {
   "cell_type": "code",
   "execution_count": null,
   "id": "a3381a76",
   "metadata": {},
   "outputs": [],
   "source": [
    "plt.figure(figsize=(30,10))\n",
    "plt.plot(data,price,label='Nikkei225')\n",
    "plt.legend()"
   ]
  },
  {
   "cell_type": "code",
   "execution_count": null,
   "id": "7f8cd0da",
   "metadata": {},
   "outputs": [],
   "source": [
    "plt.figure(figsize=(30,10))\n",
    "plt.plot(data,price,label='Nikkei225')\n",
    "plt.title('N225',color='blue',backgroundcolor='white',size=40,loc='center')\n",
    "plt.legend()"
   ]
  },
  {
   "cell_type": "code",
   "execution_count": null,
   "id": "2c93bd95",
   "metadata": {},
   "outputs": [],
   "source": [
    "plt.figure(figsize=(30,10))\n",
    "plt.plot(data,price,label='Nikkei225')\n",
    "plt.title('N225',color='blue',backgroundcolor='white',size=40,loc='center')\n",
    "plt.xlabel('data',color='black',size=30)\n",
    "plt.ylabel('price',color='black',size=30)\n",
    "plt.legend()"
   ]
  },
  {
   "cell_type": "code",
   "execution_count": null,
   "id": "8770be00",
   "metadata": {},
   "outputs": [],
   "source": [
    "#  ここから移動平均\n",
    "span01=5\n",
    "span02=25\n",
    "span03=50\n",
    "\n",
    "df['sma01']=price.rolling(window=span01).mean()\n",
    "df['sma02']=price.rolling(window=span02).mean()\n",
    "df['sma03']=price.rolling(window=span03).mean()"
   ]
  },
  {
   "cell_type": "code",
   "execution_count": null,
   "id": "3278ba88",
   "metadata": {
    "scrolled": false
   },
   "outputs": [],
   "source": [
    "pd.set_option('display.max_rows',None)\n",
    "df.head(100)"
   ]
  },
  {
   "cell_type": "code",
   "execution_count": null,
   "id": "a13f84d7",
   "metadata": {},
   "outputs": [],
   "source": [
    "plt.figure(figsize=(30,10))\n",
    "plt.plot(data,price,label='Nikkei225')\n",
    "plt.plot(data,df['sma01'],label='sma01')\n",
    "plt.plot(data,df['sma02'],label='sma02')\n",
    "plt.plot(data,df['sma03'],label='sma03')\n",
    "\n",
    "plt.title('N225',color='blue',backgroundcolor='white',size=40,loc='center')\n",
    "plt.xlabel('data',color='black',size=30)\n",
    "plt.ylabel('price',color='black',size=30)\n",
    "\n",
    "plt.legend()"
   ]
  },
  {
   "cell_type": "code",
   "execution_count": null,
   "id": "0032e4b5",
   "metadata": {},
   "outputs": [],
   "source": [
    "# ゴールデンクロス：短期の移動平均線が中期以上の移動平均線を下から上に抜けること→価格が上昇しているサイン\n",
    "# デットクロス：短期の移動平均線が中期以上の移動平均線を上から下に抜けること→価格が下降しているサイン"
   ]
  },
  {
   "cell_type": "code",
   "execution_count": null,
   "id": "de642765",
   "metadata": {},
   "outputs": [],
   "source": [
    "plt.figure(figsize=(30,15))\n",
    "plt.bar(data,df['Volume'],label='Volume',color='grey')\n",
    "\n",
    "plt.legend()"
   ]
  },
  {
   "cell_type": "code",
   "execution_count": null,
   "id": "9ff1fb9f",
   "metadata": {},
   "outputs": [],
   "source": [
    "plt.figure(figsize=(30,10))\n",
    "plt.subplot(2,1,1)\n",
    "plt.plot(data,price,label='Close',color='#99b898')\n",
    "plt.plot(data,df['sma01'],label='sma01',color='#e84a5f')\n",
    "plt.plot(data,df['sma02'],label='sma02',color='#ff847c')\n",
    "plt.plot(data,df['sma03'],label='sma03',color='#feceab')\n",
    "plt.legend()\n",
    "\n",
    "plt.subplot(2,1,2)\n",
    "plt.bar(data,df['Volume'],label='Volume',color='grey')\n",
    "\n",
    "plt.legend()"
   ]
  },
  {
   "cell_type": "code",
   "execution_count": null,
   "id": "308e4c9b",
   "metadata": {},
   "outputs": [],
   "source": [
    "# リクルートホールディングス\n",
    "df = data.DataReader('6098.JP' , 'stooq')"
   ]
  },
  {
   "cell_type": "code",
   "execution_count": null,
   "id": "9d4e4116",
   "metadata": {},
   "outputs": [],
   "source": [
    "df.head(10)"
   ]
  },
  {
   "cell_type": "code",
   "execution_count": null,
   "id": "5bcdb128",
   "metadata": {},
   "outputs": [],
   "source": [
    "df.index.min()"
   ]
  },
  {
   "cell_type": "code",
   "execution_count": null,
   "id": "55b263bc",
   "metadata": {},
   "outputs": [],
   "source": [
    "df.index.max()"
   ]
  },
  {
   "cell_type": "code",
   "execution_count": null,
   "id": "4924d183",
   "metadata": {},
   "outputs": [],
   "source": [
    "df= df.sort_index()"
   ]
  },
  {
   "cell_type": "code",
   "execution_count": null,
   "id": "3a1b7697",
   "metadata": {},
   "outputs": [],
   "source": [
    "df.head(10)"
   ]
  },
  {
   "cell_type": "code",
   "execution_count": null,
   "id": "39a528b4",
   "metadata": {},
   "outputs": [],
   "source": [
    "df.index>='2019-06-01 00:00:00'"
   ]
  },
  {
   "cell_type": "code",
   "execution_count": null,
   "id": "9c056c66",
   "metadata": {},
   "outputs": [],
   "source": [
    "df[df.index>='2019-06-01 00:00:00']"
   ]
  },
  {
   "cell_type": "code",
   "execution_count": null,
   "id": "44218289",
   "metadata": {},
   "outputs": [],
   "source": [
    "df.index<='2020-06-01 00:00:00'"
   ]
  },
  {
   "cell_type": "code",
   "execution_count": null,
   "id": "38312508",
   "metadata": {},
   "outputs": [],
   "source": [
    "df[df.index<='2020-06-01 00:00:00']"
   ]
  },
  {
   "cell_type": "code",
   "execution_count": null,
   "id": "5c104f5c",
   "metadata": {
    "scrolled": true
   },
   "outputs": [],
   "source": [
    "pd.set_option('display.max_rows',None)\n",
    "df[(df.index>='2019-06-01 00:00:00') & (df.index<='2020-05-01 00:00:00')]"
   ]
  },
  {
   "cell_type": "code",
   "execution_count": null,
   "id": "03a7ee8b",
   "metadata": {},
   "outputs": [],
   "source": [
    "# リクルートホールディングス\n",
    "df = data.DataReader('6098.JP' , 'stooq')\n",
    "\n",
    "data=df.index\n",
    "price=df['Close']\n",
    "\n",
    "span01=5\n",
    "span02=25\n",
    "span03=50\n",
    "\n",
    "df['sma01']=price.rolling(window=span01).mean()\n",
    "df['sma02']=price.rolling(window=span02).mean()\n",
    "df['sma03']=price.rolling(window=span03).mean()\n",
    "\n",
    "plt.figure(figsize=(30,10))\n",
    "plt.subplot(2,1,1)\n",
    "plt.plot(data,price,label='Close',color='#99b898')\n",
    "plt.plot(data,df['sma01'],label='sma01',color='#e84a5f')\n",
    "plt.plot(data,df['sma02'],label='sma02',color='#ff847c')\n",
    "plt.plot(data,df['sma03'],label='sma03',color='#feceab')\n",
    "plt.legend()\n",
    "\n",
    "plt.subplot(2,1,2)\n",
    "plt.bar(data,df['Volume'],label='Volume',color='grey')\n",
    "plt.legend()"
   ]
  },
  {
   "cell_type": "code",
   "execution_count": null,
   "id": "b961ef64",
   "metadata": {},
   "outputs": [],
   "source": []
  },
  {
   "cell_type": "code",
   "execution_count": null,
   "id": "5f03c6aa",
   "metadata": {},
   "outputs": [],
   "source": []
  },
  {
   "cell_type": "code",
   "execution_count": null,
   "id": "12d0cf5f",
   "metadata": {},
   "outputs": [],
   "source": []
  },
  {
   "cell_type": "code",
   "execution_count": null,
   "id": "9f6c49b1",
   "metadata": {},
   "outputs": [],
   "source": []
  },
  {
   "cell_type": "code",
   "execution_count": null,
   "id": "0ccfdea8",
   "metadata": {},
   "outputs": [],
   "source": [
    "start = '2019-06-01'\n",
    "end = '2020-05-01'\n",
    "company_code = '7203.JP'"
   ]
  },
  {
   "cell_type": "code",
   "execution_count": null,
   "id": "38fa6a56",
   "metadata": {},
   "outputs": [],
   "source": [
    "df = data.DataReader(company_code,'stooq')\n",
    "df = df[(df.index>=start) & (df.index<=end)]\n",
    "\n",
    "\n",
    "\n",
    "data=df.index\n",
    "price=df['Close']\n",
    "\n",
    "span01=5\n",
    "span02=25\n",
    "span03=50\n",
    "\n",
    "df['sma01']=price.rolling(window=span01).mean()\n",
    "df['sma02']=price.rolling(window=span02).mean()\n",
    "df['sma03']=price.rolling(window=span03).mean()\n",
    "\n",
    "plt.figure(figsize=(30,15))\n",
    "plt.subplot(2,1,1)\n",
    "plt.plot(data,price,label='Close',color='#99b898')\n",
    "plt.plot(data,df['sma01'],label='sma01',color='#e84a5f')\n",
    "plt.plot(data,df['sma02'],label='sma02',color='#ff847c')\n",
    "plt.plot(data,df['sma03'],label='sma03',color='#feceab')\n",
    "plt.legend()\n",
    "\n",
    "plt.subplot(2,1,2)\n",
    "plt.bar(data,df['Volume'],label='Volume',color='grey')\n",
    "plt.legend()"
   ]
  },
  {
   "cell_type": "code",
   "execution_count": null,
   "id": "e8606e23",
   "metadata": {},
   "outputs": [],
   "source": []
  },
  {
   "cell_type": "code",
   "execution_count": null,
   "id": "9f931a28",
   "metadata": {},
   "outputs": [],
   "source": []
  },
  {
   "cell_type": "code",
   "execution_count": null,
   "id": "3af80a7a",
   "metadata": {},
   "outputs": [],
   "source": []
  },
  {
   "cell_type": "code",
   "execution_count": null,
   "id": "af6ae387",
   "metadata": {},
   "outputs": [],
   "source": []
  },
  {
   "cell_type": "code",
   "execution_count": null,
   "id": "e93ce94b",
   "metadata": {},
   "outputs": [],
   "source": []
  },
  {
   "cell_type": "code",
   "execution_count": null,
   "id": "fbd87697",
   "metadata": {},
   "outputs": [],
   "source": []
  },
  {
   "cell_type": "code",
   "execution_count": null,
   "id": "903168de",
   "metadata": {},
   "outputs": [],
   "source": []
  },
  {
   "cell_type": "code",
   "execution_count": null,
   "id": "b971ecb8",
   "metadata": {},
   "outputs": [],
   "source": []
  },
  {
   "cell_type": "code",
   "execution_count": null,
   "id": "9dff7426",
   "metadata": {},
   "outputs": [],
   "source": []
  },
  {
   "cell_type": "code",
   "execution_count": null,
   "id": "3e5f0df0",
   "metadata": {},
   "outputs": [],
   "source": []
  },
  {
   "cell_type": "code",
   "execution_count": null,
   "id": "053051fc",
   "metadata": {},
   "outputs": [],
   "source": []
  },
  {
   "cell_type": "code",
   "execution_count": null,
   "id": "f4d639cf",
   "metadata": {},
   "outputs": [],
   "source": []
  },
  {
   "cell_type": "code",
   "execution_count": null,
   "id": "08cac09b",
   "metadata": {},
   "outputs": [],
   "source": []
  },
  {
   "cell_type": "code",
   "execution_count": null,
   "id": "ef459ac0",
   "metadata": {},
   "outputs": [],
   "source": []
  },
  {
   "cell_type": "code",
   "execution_count": null,
   "id": "ee551502",
   "metadata": {},
   "outputs": [],
   "source": []
  },
  {
   "cell_type": "code",
   "execution_count": null,
   "id": "f603bf91",
   "metadata": {},
   "outputs": [],
   "source": []
  },
  {
   "cell_type": "code",
   "execution_count": null,
   "id": "517da8f2",
   "metadata": {},
   "outputs": [],
   "source": []
  },
  {
   "cell_type": "code",
   "execution_count": null,
   "id": "475c2d32",
   "metadata": {},
   "outputs": [],
   "source": []
  },
  {
   "cell_type": "code",
   "execution_count": null,
   "id": "0d3b1369",
   "metadata": {},
   "outputs": [],
   "source": []
  },
  {
   "cell_type": "code",
   "execution_count": null,
   "id": "9bb81498",
   "metadata": {},
   "outputs": [],
   "source": []
  },
  {
   "cell_type": "code",
   "execution_count": null,
   "id": "05a7a97e",
   "metadata": {},
   "outputs": [],
   "source": []
  },
  {
   "cell_type": "code",
   "execution_count": null,
   "id": "844ad74c",
   "metadata": {},
   "outputs": [],
   "source": []
  },
  {
   "cell_type": "code",
   "execution_count": null,
   "id": "f864a67c",
   "metadata": {},
   "outputs": [],
   "source": []
  },
  {
   "cell_type": "code",
   "execution_count": null,
   "id": "cb2bb1b4",
   "metadata": {},
   "outputs": [],
   "source": []
  },
  {
   "cell_type": "code",
   "execution_count": null,
   "id": "5b87b7f5",
   "metadata": {},
   "outputs": [],
   "source": []
  },
  {
   "cell_type": "code",
   "execution_count": null,
   "id": "62c90a52",
   "metadata": {},
   "outputs": [],
   "source": []
  },
  {
   "cell_type": "code",
   "execution_count": null,
   "id": "c625fb2d",
   "metadata": {},
   "outputs": [],
   "source": []
  },
  {
   "cell_type": "code",
   "execution_count": null,
   "id": "45aac3f6",
   "metadata": {},
   "outputs": [],
   "source": []
  },
  {
   "cell_type": "code",
   "execution_count": null,
   "id": "00554bdb",
   "metadata": {},
   "outputs": [],
   "source": []
  },
  {
   "cell_type": "code",
   "execution_count": null,
   "id": "28b090a9",
   "metadata": {},
   "outputs": [],
   "source": []
  },
  {
   "cell_type": "code",
   "execution_count": null,
   "id": "2f40fd18",
   "metadata": {},
   "outputs": [],
   "source": []
  },
  {
   "cell_type": "code",
   "execution_count": null,
   "id": "e113535b",
   "metadata": {},
   "outputs": [],
   "source": []
  },
  {
   "cell_type": "code",
   "execution_count": null,
   "id": "0e35af87",
   "metadata": {},
   "outputs": [],
   "source": []
  },
  {
   "cell_type": "code",
   "execution_count": null,
   "id": "8848fb57",
   "metadata": {},
   "outputs": [],
   "source": [
    "pip install pandas_datareader"
   ]
  },
  {
   "cell_type": "code",
   "execution_count": null,
   "id": "af59cb1c",
   "metadata": {},
   "outputs": [],
   "source": [
    "from pandas_datareader import data\n",
    "import pandas as pd\n",
    "import matplotlib.pyplot as plt\n",
    "import numpy as np\n",
    "%matplotlib inline"
   ]
  },
  {
   "cell_type": "code",
   "execution_count": null,
   "id": "0e1ec861",
   "metadata": {},
   "outputs": [],
   "source": [
    "def company_stock(start,end,company_code):\n",
    "    df = data.DataReader(company_code,'stooq')\n",
    "    df = df[(df.index>=start) & (df.index<=end)]\n",
    "\n",
    "\n",
    "\n",
    "    data1=df.index\n",
    "    price=df['Close']\n",
    "\n",
    "    span01=5\n",
    "    span02=25\n",
    "    span03=50\n",
    "\n",
    "    df['sma01']=price.rolling(window=span01).mean()\n",
    "    df['sma02']=price.rolling(window=span02).mean()\n",
    "    df['sma03']=price.rolling(window=span03).mean()\n",
    "\n",
    "    plt.figure(figsize=(30,15))\n",
    "    plt.subplot(2,1,1)\n",
    "    plt.plot(data1,price,label='Close',color='#99b898')\n",
    "    plt.plot(data1,df['sma01'],label='sma01',color='#e84a5f')\n",
    "    plt.plot(data1,df['sma02'],label='sma02',color='#ff847c')\n",
    "    plt.plot(data1,df['sma03'],label='sma03',color='#feceab')\n",
    "    plt.legend()\n",
    "\n",
    "    plt.subplot(2,1,2)\n",
    "    plt.bar(data1,df['Volume'],label='Volume',color='grey')\n",
    "    plt.legend()"
   ]
  },
  {
   "cell_type": "code",
   "execution_count": null,
   "id": "fe72e447",
   "metadata": {},
   "outputs": [],
   "source": [
    "company_stock('2017-01-01','2020-06-01','7203.jp')"
   ]
  },
  {
   "cell_type": "code",
   "execution_count": null,
   "id": "7aa07a26",
   "metadata": {},
   "outputs": [],
   "source": []
  }
 ],
 "metadata": {
  "kernelspec": {
   "display_name": "Python 3 (ipykernel)",
   "language": "python",
   "name": "python3"
  },
  "language_info": {
   "codemirror_mode": {
    "name": "ipython",
    "version": 3
   },
   "file_extension": ".py",
   "mimetype": "text/x-python",
   "name": "python",
   "nbconvert_exporter": "python",
   "pygments_lexer": "ipython3",
   "version": "3.9.12"
  }
 },
 "nbformat": 4,
 "nbformat_minor": 5
}

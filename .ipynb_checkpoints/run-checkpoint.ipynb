{
 "cells": [
  {
   "cell_type": "code",
   "execution_count": 159,
   "id": "99befa10",
   "metadata": {},
   "outputs": [
    {
     "name": "stdout",
     "output_type": "stream",
     "text": [
      "<requests_oauthlib.oauth1_session.OAuth1Session object at 0x7fb798dde820>\n",
      "レアスニのページの取得完了\n"
     ]
    }
   ],
   "source": [
    "import requests\n",
    "from bs4 import BeautifulSoup\n",
    "import os\n",
    "import json\n",
    "import sys\n",
    "sys.path.append(\"/Users/kuramochiosuke/.pyenv/versions/3.10.4/Library/Frameworks/Python.framework/Versions/3.10/lib/python3.10/site-packages\")\n",
    "from requests_oauthlib import OAuth1Session\n",
    "sys.path.append(\"/Users/kuramochiosuke/.pyenv/versions/3.10.4/lib/python3.10/site-packages\")\n",
    "from dotenv import find_dotenv, load_dotenv\n",
    "import requests\n",
    "import schedule\n",
    "import time\n",
    "\n",
    "\n",
    "# def job():\n",
    "    # .envファイルを探して読み込み\n",
    "env_file = find_dotenv()\n",
    "load_dotenv(env_file)  \n",
    "\n",
    "CONSUMER_KEY = os.environ.get('CONSUMER_KEY')\n",
    "CONSUMER_SECRET = os.environ.get('CONSUMER_SECRET')\n",
    "ACCESS_KEY = os.environ.get('ACCESS_KEY')\n",
    "ACCESS_KEY_SECRET = os.environ.get('ACCESS_KEY_SECRET')\n",
    "\n",
    "# Twitterの認証\n",
    "twitter = OAuth1Session(CONSUMER_KEY, CONSUMER_SECRET, ACCESS_KEY, ACCESS_KEY_SECRET)\n",
    "print(twitter)\n",
    "\n",
    "#エンドポイント\n",
    "url_text = 'https://api.twitter.com/1.1/statuses/update.json'\n",
    "url_media = \"https://upload.twitter.com/1.1/media/upload.json\"\n",
    "\n",
    "\n",
    "\n",
    "# # ここまでTwitter投稿の準備\n",
    "# print(\"投稿準備完了\")\n",
    "\n",
    "# params_2 = {\n",
    "#     'count':100,\n",
    "#     'screen_name':'AhTp2vML1Ws95rO'\n",
    "#     }\n",
    "# res = twitter.get(url_user, params=params_2)\n",
    "# abc = json.loads(res.text)\n",
    "# print(\"過去100投稿分のデータ取得完了\")\n",
    "\n",
    "\n",
    "\n",
    "#スニだんのページの指定\n",
    "URL = 'https://orenoraresne.com'\n",
    "# リクエストヘッダの指定\n",
    "headers = {\"User-Agent\": \"hoge\"}\n",
    "response = requests.get(URL,  headers=headers)\n",
    "r_text=response.text\n",
    "soup = BeautifulSoup(r_text, 'html.parser')\n",
    "\n",
    "\n",
    "print('レアスニのページの取得完了')\n",
    "\n",
    "\n",
    "\n",
    "#     # 記事の取得 \n",
    "#     soup_article=soup.find_all(\"article\")[5]\n",
    "#     new_elem=soup_article.find_all(\"img\")[0]['src']\n",
    "#     try:\n",
    "#         with open('old_elem.txt') as f:\n",
    "#             old_elem = f.read()\n",
    "#     except:\n",
    "#         old_elem=\"\"\n",
    "#     if new_elem == old_elem:\n",
    "#         print(\"変化なし\")\n",
    "#         print(\"\")\n",
    "#     else:\n",
    "#         with open(\"old_elem.txt\",\"w\") as f:\n",
    "#             f.write(new_elem)   \n",
    "#         soup_text=soup_article.find_all(\"h3\")[0].find(\"a\").text.replace(\"\\n\",\"\").replace(\"\\t\",\"\").replace(\"定価/\",\"\")\n",
    "#         # 画像の取得\n",
    "#         soup_img=soup_article.find_all(\"img\")[0]['src']\n",
    "#         # 詳細ページのリンクを取得\n",
    "#         soup_url=\"https://snkrdunk.com/\"+soup_article.find(\"a\")['href']\n",
    "#         # 画像の処理\n",
    "#         response = requests.get(soup_img)\n",
    "#         time.sleep(2)\n",
    "#         image = response.content\n",
    "#         files = {\"media\" : image}\n",
    "#         req_media = twitter.post(url_media, files = files)\n",
    "#         time.sleep(2)\n",
    "#         media_id = json.loads(req_media.text)['media_id']\n",
    "#         print('画像の取得完了')\n",
    "\n",
    "\n",
    "#         print(\"ここから詳細ページ\")\n",
    "#         URL = soup_url\n",
    "#         # リクエストヘッダの指定\n",
    "#         headers = {\"User-Agent\": \"hoge\"}\n",
    "#         response = requests.get(URL,  headers=headers)\n",
    "#         time.sleep(2)\n",
    "#         r_text=response.text\n",
    "#         soup = BeautifulSoup(r_text, 'html.parser')\n",
    "#         time.sleep(2)\n",
    "        \n",
    "        \n",
    "#         if soup_text[:5]==\"【リーク】\":\n",
    "#             soup_h1=soup.find_all(\"h1\")[0].text.replace(\"抽選/定価/販売店舗まとめ\",\"\").replace(\"【リーク】\",\"\")\n",
    "#             soup_p=soup.find_all(\"p\",attrs={\"class\",\"page-title-en\"})[0].text\n",
    "#             params_1 = {'status':\"リーク情報!!!\\n\\n{}\\n\\n{}\\n\\n情報が入り次第更新!!!\".format(soup_h1,soup_p),'media_ids':[media_id]}\n",
    "#             twitter.post(url_text, params = params_1)\n",
    "#             time.sleep(2)\n",
    "#             print(\"投稿完了しました\")\n",
    "#             print(\"\")\n",
    "            \n",
    "            \n",
    "#         elif soup_text[:5]==\"【販売リン\":\n",
    "#             a_count=len(soup.find_all(\"div\",attrs={\"class\",\"sneaker-release-shop-box\"})[0].find_all(\"a\"))\n",
    "#             for i in range(a_count):\n",
    "#                 soup_block=soup.find_all(\"div\",attrs={\"class\",\"sneaker-release-shop-box\"})[0].find_all(\"a\")[i]\n",
    "#                 soup_link=soup_block['href']\n",
    "#                 soup_app_name=soup_block.find_all(\"div\",attrs={\"class\",\"left-box\"})[0].text\n",
    "#                 soup_data=soup_block.find_all(\"div\",attrs={\"class\",\"shop-right-box\"})[0].text\n",
    "\n",
    "#                 # ツイート(複数画像をアップロードする場合は[\"test1.jpg,test2.jpg\"])みたいな感じ\n",
    "#                 params_1 = {'status': \"{}\\n\\n{}  {}\\n{}\\n\".format(soup_text,soup_app_name,soup_data,soup_link),'media_ids':[media_id]}\n",
    "#                 time.sleep(2)\n",
    "#                 twitter.post(url_text, params = params_1)\n",
    "#                 time.sleep(2)\n",
    "#                 print(\"投稿完了しました\")\n",
    "#                 print(\"\")\n",
    "#         else:\n",
    "#             print(\"これから実装\")\n",
    "#             print(\"\")\n",
    "            \n",
    "                \n",
    "# def main():\n",
    "#     schedule.every(1).minutes.do(job)\n",
    "#     while True:\n",
    "#         schedule.run_pending()\n",
    "#         time.sleep(1)\n",
    "\n",
    "# if __name__ == '__main__':\n",
    "#     main()"
   ]
  },
  {
   "cell_type": "code",
   "execution_count": 160,
   "id": "0b9f8a1f",
   "metadata": {},
   "outputs": [],
   "source": [
    "soup_article=soup.find_all(\"article\",attrs={\"class\",\"post-list\"})[0]"
   ]
  },
  {
   "cell_type": "code",
   "execution_count": 161,
   "id": "dc0bcf4a",
   "metadata": {},
   "outputs": [
    {
     "data": {
      "text/plain": [
       "'https://orenoraresne.com/wp-content/uploads/2022/06/スクリーンショット-2022-06-15-21.14.34-485x278.jpg'"
      ]
     },
     "execution_count": 161,
     "metadata": {},
     "output_type": "execute_result"
    }
   ],
   "source": [
    "soup_img=soup_article.find_all(\"img\")[0]['src']\n",
    "soup_img"
   ]
  },
  {
   "cell_type": "code",
   "execution_count": 162,
   "id": "fc9c73bc",
   "metadata": {},
   "outputs": [
    {
     "data": {
      "text/plain": [
       "'【6月28日(火)販売予定】ユニオン × ナイキ コルテッツ SP【2カラー】'"
      ]
     },
     "execution_count": 162,
     "metadata": {},
     "output_type": "execute_result"
    }
   ],
   "source": [
    "soup_name=soup_article.find_all(\"h1\",attrs={\"class\",\"entry-title\"})[0].text\n",
    "soup_name"
   ]
  },
  {
   "cell_type": "code",
   "execution_count": 163,
   "id": "9beb74ef",
   "metadata": {},
   "outputs": [
    {
     "data": {
      "text/plain": [
       "'https://orenoraresne.com/union-nike-cortez-sp-20220622'"
      ]
     },
     "execution_count": 163,
     "metadata": {},
     "output_type": "execute_result"
    }
   ],
   "source": [
    "soup_url=soup_article.find_all(\"a\")[0][\"href\"]\n",
    "soup_url"
   ]
  },
  {
   "cell_type": "code",
   "execution_count": 164,
   "id": "a80c88f4",
   "metadata": {
    "scrolled": false
   },
   "outputs": [
    {
     "name": "stdout",
     "output_type": "stream",
     "text": [
      "画像の取得完了\n"
     ]
    }
   ],
   "source": [
    "# 画像の処理\n",
    "response = requests.get(soup_img)\n",
    "image = response.content\n",
    "files = {\"media\" : image}\n",
    "req_media = twitter.post(url_media, files = files)\n",
    "media_id = json.loads(req_media.text)['media_id']\n",
    "print('画像の取得完了')"
   ]
  },
  {
   "cell_type": "code",
   "execution_count": 165,
   "id": "6b0c82e8",
   "metadata": {},
   "outputs": [
    {
     "name": "stdout",
     "output_type": "stream",
     "text": [
      "ここから詳細ページ\n"
     ]
    }
   ],
   "source": [
    "print(\"ここから詳細ページ\")\n",
    "URL = soup_url\n",
    "# リクエストヘッダの指定\n",
    "headers = {\"User-Agent\": \"hoge\"}\n",
    "response = requests.get(URL,  headers=headers)\n",
    "r_text=response.text\n",
    "soup = BeautifulSoup(r_text, 'html.parser')"
   ]
  },
  {
   "cell_type": "code",
   "execution_count": 166,
   "id": "5ab30e81",
   "metadata": {},
   "outputs": [
    {
     "data": {
      "text/plain": [
       "'定価：15,400円(税込)プレ値(転売予想価格)：オフノワール→〜20,000円セサミ→〜17,000円'"
      ]
     },
     "execution_count": 166,
     "metadata": {},
     "output_type": "execute_result"
    }
   ],
   "source": [
    "soup_p=soup.find_all(\"p\",attrs={\"class\",\"has-text-align-center\"})\n",
    "for i in range(len(soup_p)-1):\n",
    "    soup_a=soup.find_all(\"p\",attrs={\"class\",\"has-text-align-center\"})[i].text\n",
    "    if soup_a[:3]==\"定価：\":\n",
    "        soup_purene=soup.find_all(\"p\",attrs={\"class\",\"has-text-align-center\"})[i].text.replace(\"俺的\",\"\")\n",
    "soup_purene"
   ]
  },
  {
   "cell_type": "code",
   "execution_count": 167,
   "id": "895b8813",
   "metadata": {},
   "outputs": [
    {
     "name": "stdout",
     "output_type": "stream",
     "text": [
      "投稿完了しました\n",
      "\n"
     ]
    }
   ],
   "source": [
    "params = {'status':\"予想プレ値!!!\\n\\n{}\\n\\n{}\".format(soup_name,soup_purene),'media_ids':[media_id]}\n",
    "twitter.post(url_text, params = params)\n",
    "print(\"投稿完了しました\")\n",
    "print(\"\")"
   ]
  },
  {
   "cell_type": "code",
   "execution_count": 168,
   "id": "1e2adf5f",
   "metadata": {},
   "outputs": [
    {
     "data": {
      "text/plain": [
       "'結果発表'"
      ]
     },
     "execution_count": 168,
     "metadata": {},
     "output_type": "execute_result"
    }
   ],
   "source": [
    "soup_h2=soup.find_all(\"h2\",attrs={\"class\",\"has-text-align-left\"})[0].text\n",
    "soup_h2"
   ]
  },
  {
   "cell_type": "code",
   "execution_count": 169,
   "id": "442bf5c9",
   "metadata": {},
   "outputs": [
    {
     "data": {
      "text/plain": [
       "'結果：転売価格：オフノワール→22,000〜25,000円セサミ→18,000〜20,000円'"
      ]
     },
     "execution_count": 169,
     "metadata": {},
     "output_type": "execute_result"
    }
   ],
   "source": [
    "soup_p=soup.find_all(\"p\",attrs={\"class\",\"has-text-align-center\"})\n",
    "for i in range(len(soup_p)):\n",
    "    soup_a=soup.find_all(\"p\",attrs={\"class\",\"has-text-align-center\"})[i].text\n",
    "    if soup_a[:2]==\"結果\":\n",
    "        soup_result=soup.find_all(\"p\",attrs={\"class\",\"has-text-align-center\"})[i].text.replace(\"予想外れ\",\"\")\n",
    "soup_result"
   ]
  },
  {
   "cell_type": "code",
   "execution_count": 170,
   "id": "a4b689e6",
   "metadata": {},
   "outputs": [
    {
     "name": "stdout",
     "output_type": "stream",
     "text": [
      "投稿完了しました\n",
      "\n"
     ]
    }
   ],
   "source": [
    "params = {'status':\"結果発表!!!\\n\\n{}\\n\\n{}\".format(soup_name,soup_result),'media_ids':[media_id]}\n",
    "twitter.post(url_text, params = params)\n",
    "print(\"投稿完了しました\")\n",
    "print(\"\")"
   ]
  },
  {
   "cell_type": "code",
   "execution_count": null,
   "id": "e77cc663",
   "metadata": {},
   "outputs": [],
   "source": []
  }
 ],
 "metadata": {
  "kernelspec": {
   "display_name": "Python 3 (ipykernel)",
   "language": "python",
   "name": "python3"
  },
  "language_info": {
   "codemirror_mode": {
    "name": "ipython",
    "version": 3
   },
   "file_extension": ".py",
   "mimetype": "text/x-python",
   "name": "python",
   "nbconvert_exporter": "python",
   "pygments_lexer": "ipython3",
   "version": "3.9.12"
  }
 },
 "nbformat": 4,
 "nbformat_minor": 5
}
